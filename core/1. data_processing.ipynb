{
 "cells": [
  {
   "cell_type": "markdown",
   "id": "e7cd1038",
   "metadata": {},
   "source": [
    "# preparations"
   ]
  },
  {
   "cell_type": "markdown",
   "id": "155a35d5",
   "metadata": {},
   "source": [
    "## imports\n"
   ]
  },
  {
   "cell_type": "code",
   "execution_count": 2,
   "id": "bafc79f3",
   "metadata": {},
   "outputs": [],
   "source": [
    "# environment imports\n",
    "import sys, os, shutil, glob\n",
    "import warnings\n",
    "warnings.filterwarnings('ignore')"
   ]
  },
  {
   "cell_type": "code",
   "execution_count": 10,
   "id": "6a716e90",
   "metadata": {},
   "outputs": [],
   "source": [
    "# data processing imports\n",
    "import pandas as pd\n",
    "import numpy as np"
   ]
  },
  {
   "cell_type": "markdown",
   "id": "6fd405e0",
   "metadata": {},
   "source": [
    "## variables"
   ]
  },
  {
   "cell_type": "code",
   "execution_count": 36,
   "id": "6ba38ceb",
   "metadata": {},
   "outputs": [],
   "source": [
    "DATA_DIR, LOCAL_DIR = './data', './'\n",
    "\n",
    "TRAIN_MP4_DIR, TRAIN_WAV_DIR = f'{DATA_DIR}/train/mp4', f'{DATA_DIR}/train/wav'\n",
    "VALID_MP4_DIR, vALID_WAV_DIR = f'{DATA_DIR}/val/mp4', f'{DATA_DIR}/val/wav'"
   ]
  },
  {
   "cell_type": "markdown",
   "id": "3dd5081c",
   "metadata": {},
   "source": [
    "# data processing"
   ]
  },
  {
   "cell_type": "code",
   "execution_count": 18,
   "id": "6c88cbc2",
   "metadata": {},
   "outputs": [
    {
     "name": "stdout",
     "output_type": "stream",
     "text": [
      "(25067, 11)\n"
     ]
    },
    {
     "data": {
      "text/html": [
       "<div>\n",
       "<style scoped>\n",
       "    .dataframe tbody tr th:only-of-type {\n",
       "        vertical-align: middle;\n",
       "    }\n",
       "\n",
       "    .dataframe tbody tr th {\n",
       "        vertical-align: top;\n",
       "    }\n",
       "\n",
       "    .dataframe thead th {\n",
       "        text-align: right;\n",
       "    }\n",
       "</style>\n",
       "<table border=\"1\" class=\"dataframe\">\n",
       "  <thead>\n",
       "    <tr style=\"text-align: right;\">\n",
       "      <th></th>\n",
       "      <th>File_ID</th>\n",
       "      <th>Split</th>\n",
       "      <th>Adoration</th>\n",
       "      <th>Amusement</th>\n",
       "      <th>Anxiety</th>\n",
       "      <th>Disgust</th>\n",
       "      <th>Empathic-Pain</th>\n",
       "      <th>Fear</th>\n",
       "      <th>Surprise</th>\n",
       "      <th>Age</th>\n",
       "      <th>Country</th>\n",
       "    </tr>\n",
       "  </thead>\n",
       "  <tbody>\n",
       "    <tr>\n",
       "      <th>0</th>\n",
       "      <td>[00000]</td>\n",
       "      <td>Train</td>\n",
       "      <td>0.000000</td>\n",
       "      <td>0.039090</td>\n",
       "      <td>1.000000</td>\n",
       "      <td>0.106748</td>\n",
       "      <td>0.142947</td>\n",
       "      <td>0.633131</td>\n",
       "      <td>0.306611</td>\n",
       "      <td>23.0</td>\n",
       "      <td>United States</td>\n",
       "    </tr>\n",
       "    <tr>\n",
       "      <th>1</th>\n",
       "      <td>[00001]</td>\n",
       "      <td>Train</td>\n",
       "      <td>0.051464</td>\n",
       "      <td>0.224765</td>\n",
       "      <td>1.000000</td>\n",
       "      <td>0.221065</td>\n",
       "      <td>0.159005</td>\n",
       "      <td>0.311960</td>\n",
       "      <td>0.371110</td>\n",
       "      <td>27.0</td>\n",
       "      <td>South Africa</td>\n",
       "    </tr>\n",
       "    <tr>\n",
       "      <th>2</th>\n",
       "      <td>[00002]</td>\n",
       "      <td>Train</td>\n",
       "      <td>0.082981</td>\n",
       "      <td>1.000000</td>\n",
       "      <td>0.208966</td>\n",
       "      <td>0.223763</td>\n",
       "      <td>0.042512</td>\n",
       "      <td>0.102279</td>\n",
       "      <td>0.729082</td>\n",
       "      <td>44.0</td>\n",
       "      <td>United States</td>\n",
       "    </tr>\n",
       "    <tr>\n",
       "      <th>3</th>\n",
       "      <td>[00003]</td>\n",
       "      <td>Train</td>\n",
       "      <td>0.330907</td>\n",
       "      <td>1.000000</td>\n",
       "      <td>0.640425</td>\n",
       "      <td>0.279108</td>\n",
       "      <td>0.092854</td>\n",
       "      <td>0.000000</td>\n",
       "      <td>0.558488</td>\n",
       "      <td>39.0</td>\n",
       "      <td>United States</td>\n",
       "    </tr>\n",
       "    <tr>\n",
       "      <th>4</th>\n",
       "      <td>[00004]</td>\n",
       "      <td>Train</td>\n",
       "      <td>0.031124</td>\n",
       "      <td>0.055308</td>\n",
       "      <td>0.958352</td>\n",
       "      <td>0.161568</td>\n",
       "      <td>0.112866</td>\n",
       "      <td>1.000000</td>\n",
       "      <td>0.366121</td>\n",
       "      <td>22.5</td>\n",
       "      <td>United States</td>\n",
       "    </tr>\n",
       "  </tbody>\n",
       "</table>\n",
       "</div>"
      ],
      "text/plain": [
       "   File_ID  Split  Adoration  Amusement   Anxiety   Disgust  Empathic-Pain  \\\n",
       "0  [00000]  Train   0.000000   0.039090  1.000000  0.106748       0.142947   \n",
       "1  [00001]  Train   0.051464   0.224765  1.000000  0.221065       0.159005   \n",
       "2  [00002]  Train   0.082981   1.000000  0.208966  0.223763       0.042512   \n",
       "3  [00003]  Train   0.330907   1.000000  0.640425  0.279108       0.092854   \n",
       "4  [00004]  Train   0.031124   0.055308  0.958352  0.161568       0.112866   \n",
       "\n",
       "       Fear  Surprise   Age        Country  \n",
       "0  0.633131  0.306611  23.0  United States  \n",
       "1  0.311960  0.371110  27.0   South Africa  \n",
       "2  0.102279  0.729082  44.0  United States  \n",
       "3  0.000000  0.558488  39.0  United States  \n",
       "4  1.000000  0.366121  22.5  United States  "
      ]
     },
     "execution_count": 18,
     "metadata": {},
     "output_type": "execute_result"
    }
   ],
   "source": [
    "data_info = pd.read_csv(f'{DATA_DIR}/data_info.csv')\n",
    "\n",
    "print(data_info.shape)\n",
    "data_info.head()"
   ]
  },
  {
   "cell_type": "markdown",
   "id": "5bdbb3b0",
   "metadata": {},
   "source": [
    "First of all, we can use some of the meta data, such as `Age` or `Country` features, while evaluating the emotional reaction.\\\n",
    "Now, we should add `Path2File.mp4` and `Path2File.wav` feature, in order to conviniently get access to the file."
   ]
  },
  {
   "cell_type": "code",
   "execution_count": 39,
   "id": "37ae0d3e",
   "metadata": {},
   "outputs": [],
   "source": [
    "data_info['ID'] = data_info['File_ID'].str.replace('[', '')\n",
    "data_info['ID'] = data_info['ID'].str.replace(']', '')\n",
    "\n",
    "data_info['Path2File.mp4'] = data_info.apply(\n",
    "    lambda x: f'{TRAIN_MP4_DIR}/{x[\"ID\"]}.mp4' if x['Split'] == 'Train' \n",
    "    else (f'{VALID_MP4_DIR}/{x[\"ID\"]}.mp4' if x['Split'] == 'Val' else np.nan), axis=1\n",
    ")"
   ]
  },
  {
   "cell_type": "markdown",
   "id": "d92df7ba",
   "metadata": {},
   "source": [
    "Save the preprocessed data_info table locally and additionally labels and meta information."
   ]
  },
  {
   "cell_type": "code",
   "execution_count": 52,
   "id": "5f18728b",
   "metadata": {},
   "outputs": [],
   "source": [
    "labels_df = data_info.iloc[:, 2:9]\n",
    "meta_information = data_info.iloc[:, 9:11]\n",
    "preprocessed_data_info = data_info.copy(deep=True)\n",
    "\n",
    "labels_df.to_csv(f'{DATA_DIR}/labels_data_info.csv', index=False)\n",
    "meta_information.to_csv(f'{DATA_DIR}/meta_information_data_info.csv', index=False)\n",
    "preprocessed_data_info.to_csv(f'{DATA_DIR}/preprocessed_data_info.csv', index=False)"
   ]
  }
 ],
 "metadata": {
  "kernelspec": {
   "display_name": "Python 3 (ipykernel)",
   "language": "python",
   "name": "python3"
  },
  "language_info": {
   "codemirror_mode": {
    "name": "ipython",
    "version": 3
   },
   "file_extension": ".py",
   "mimetype": "text/x-python",
   "name": "python",
   "nbconvert_exporter": "python",
   "pygments_lexer": "ipython3",
   "version": "3.9.7"
  },
  "toc": {
   "base_numbering": 1,
   "nav_menu": {},
   "number_sections": true,
   "sideBar": true,
   "skip_h1_title": false,
   "title_cell": "Table of Contents",
   "title_sidebar": "Contents",
   "toc_cell": false,
   "toc_position": {},
   "toc_section_display": true,
   "toc_window_display": false
  }
 },
 "nbformat": 4,
 "nbformat_minor": 5
}
