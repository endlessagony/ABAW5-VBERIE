{
 "cells": [
  {
   "cell_type": "code",
   "execution_count": 1,
   "id": "98caf076",
   "metadata": {},
   "outputs": [],
   "source": [
    "import os, shutil, sys\n",
    "from tqdm.notebook import tqdm"
   ]
  },
  {
   "cell_type": "code",
   "execution_count": 2,
   "id": "538f821f",
   "metadata": {},
   "outputs": [],
   "source": [
    "ABAW5_DATA_DIR = f'../ABAW5/data'\n",
    "ABAW5_TRAIN_MP4_DIR = f'{ABAW5_DATA_DIR}/train/mp4'\n",
    "ABAW5_VALID_MP4_DIR = f'{ABAW5_DATA_DIR}/val/mp4'\n",
    "\n",
    "assert os.path.exists(ABAW5_VALID_MP4_DIR) and os.path.exists(ABAW5_TRAIN_MP4_DIR)"
   ]
  },
  {
   "cell_type": "code",
   "execution_count": 3,
   "id": "c6aba0bc",
   "metadata": {},
   "outputs": [],
   "source": [
    "OUTPUT_TRAIN_MP4_FEATURES = f'{ABAW5_DATA_DIR}/train/mp4_features-OpenFace'\n",
    "OUTPUT_VALID_MP4_FEATURES = f'{ABAW5_DATA_DIR}/val/mp4_features-OpenFace'\n",
    "\n",
    "if not os.path.exists(OUTPUT_TRAIN_MP4_FEATURES):\n",
    "    os.mkdir(OUTPUT_TRAIN_MP4_FEATURES)\n",
    "    os.mkdir(OUTPUT_VALID_MP4_FEATURES)\n",
    "    \n",
    "assert os.path.exists(OUTPUT_TRAIN_MP4_FEATURES) and os.path.exists(OUTPUT_VALID_MP4_FEATURES)"
   ]
  },
  {
   "cell_type": "code",
   "execution_count": 8,
   "id": "89aba850",
   "metadata": {},
   "outputs": [
    {
     "name": "stdout",
     "output_type": "stream",
     "text": [
      "extracting features from \"../ABAW5/data/train/mp4\" to \"../ABAW5/data/train/mp4_features-OpenFace\"\n"
     ]
    },
    {
     "data": {
      "application/vnd.jupyter.widget-view+json": {
       "model_id": "b07bbbb1ee5d4f67b1b955f70b25b9e5",
       "version_major": 2,
       "version_minor": 0
      },
      "text/plain": [
       "extracting AUs:   0%|          | 0/15806 [00:00<?, ?it/s]"
      ]
     },
     "metadata": {},
     "output_type": "display_data"
    },
    {
     "name": "stdout",
     "output_type": "stream",
     "text": [
      "extracting features from \"../ABAW5/data/val/mp4\" to \"../ABAW5/data/val/mp4_features-OpenFace\"\n"
     ]
    },
    {
     "data": {
      "application/vnd.jupyter.widget-view+json": {
       "model_id": "28b9fcf429704887bc1b3679fcb1ff25",
       "version_major": 2,
       "version_minor": 0
      },
      "text/plain": [
       "extracting AUs:   0%|          | 0/4657 [00:00<?, ?it/s]"
      ]
     },
     "metadata": {},
     "output_type": "display_data"
    }
   ],
   "source": [
    "for mp4_dir, output_features_dir in zip(\n",
    "    [ABAW5_TRAIN_MP4_DIR, ABAW5_VALID_MP4_DIR], [OUTPUT_TRAIN_MP4_FEATURES, OUTPUT_VALID_MP4_FEATURES]\n",
    "):\n",
    "    print(f'extracting features from \"{mp4_dir}\" to \"{output_features_dir}\"')\n",
    "    for file_name in tqdm(os.listdir(mp4_dir), desc='extracting AUs'):\n",
    "        # start extracting AUs\n",
    "        mp4_file_path = f'{mp4_dir}/{file_name}'\n",
    "        if os.path.exists(f'{output_features_dir}/{file_name.replace(\".mp4\", \".csv\")}'): continue\n",
    "            \n",
    "        cmd = f'FeatureExtraction.exe -f \"{mp4_file_path}\" -out_dir \"{output_features_dir}\" -2Dfp -aus -pose'\n",
    "        os.system(cmd)\n",
    "        \n",
    "        # del unneccessary file with extension .txt\n",
    "        txt_file_path = f'{output_features_dir}/{file_name.replace(\".mp4\", \"\")}_of_details.txt'\n",
    "        os.remove(txt_file_path)"
   ]
  }
 ],
 "metadata": {
  "kernelspec": {
   "display_name": "Python 3 (ipykernel)",
   "language": "python",
   "name": "python3"
  },
  "language_info": {
   "codemirror_mode": {
    "name": "ipython",
    "version": 3
   },
   "file_extension": ".py",
   "mimetype": "text/x-python",
   "name": "python",
   "nbconvert_exporter": "python",
   "pygments_lexer": "ipython3",
   "version": "3.9.7"
  }
 },
 "nbformat": 4,
 "nbformat_minor": 5
}
